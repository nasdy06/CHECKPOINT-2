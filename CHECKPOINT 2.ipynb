{
 "cells": [
  {
   "cell_type": "markdown",
   "id": "028cd508",
   "metadata": {},
   "source": [
    "# Q1\n"
   ]
  },
  {
   "cell_type": "code",
   "execution_count": 15,
   "id": "3b2456ca",
   "metadata": {},
   "outputs": [
    {
     "name": "stdout",
     "output_type": "stream",
     "text": [
      "moad\n",
      "nasdy\n",
      "moad nasdy\n"
     ]
    }
   ],
   "source": [
    "prenom=input()\n",
    "nom=input()\n",
    "print (prenom,nom)"
   ]
  },
  {
   "cell_type": "markdown",
   "id": "1b0f4e6d",
   "metadata": {},
   "source": [
    "# Q2\n"
   ]
  },
  {
   "cell_type": "code",
   "execution_count": 16,
   "id": "56df9d0f",
   "metadata": {},
   "outputs": [
    {
     "name": "stdout",
     "output_type": "stream",
     "text": [
      "5\n",
      "615\n"
     ]
    }
   ],
   "source": [
    "n=input()\n",
    "nn=n*2\n",
    "nnn=n*3\n",
    "s=int(n)+int(nn)+int(nnn)\n",
    "print (s)"
   ]
  },
  {
   "cell_type": "markdown",
   "id": "cbf32538",
   "metadata": {},
   "source": [
    "# Q3\n"
   ]
  },
  {
   "cell_type": "code",
   "execution_count": 17,
   "id": "3d951355",
   "metadata": {},
   "outputs": [
    {
     "name": "stdout",
     "output_type": "stream",
     "text": [
      "3\n",
      "x est impaire\n"
     ]
    }
   ],
   "source": [
    "x=int(input())\n",
    "if x%2==0:\n",
    "    print (\"x est paire\")\n",
    "else :\n",
    "    print (\"x est impaire\")"
   ]
  },
  {
   "cell_type": "markdown",
   "id": "3dd9f01e",
   "metadata": {},
   "source": [
    "# Q4"
   ]
  },
  {
   "cell_type": "code",
   "execution_count": 22,
   "id": "9fb7cc36",
   "metadata": {},
   "outputs": [
    {
     "name": "stdout",
     "output_type": "stream",
     "text": [
      "2002 2009 2016 2023 2037 2044 2051 2058 2072 2079 2086 2093 2107 2114 2121 2128 2142 2149 2156 2163 2177 2184 2191 2198 2212 2219 2226 2233 2247 2254 2261 2268 2282 2289 2296 2303 2317 2324 2331 2338 2352 2359 2366 2373 2387 2394 2401 2408 2422 2429 2436 2443 2457 2464 2471 2478 2492 2499 2506 2513 2527 2534 2541 2548 2562 2569 2576 2583 2597 2604 2611 2618 2632 2639 2646 2653 2667 2674 2681 2688 2702 2709 2716 2723 2737 2744 2751 2758 2772 2779 2786 2793 2807 2814 2821 2828 2842 2849 2856 2863 2877 2884 2891 2898 2912 2919 2926 2933 2947 2954 2961 2968 2982 2989 2996 3003 3017 3024 3031 3038 3052 3059 3066 3073 3087 3094 3101 3108 3122 3129 3136 3143 3157 3164 3171 3178 3192 3199 "
     ]
    }
   ],
   "source": [
    "for i in range (2000,3201):\n",
    "    if i%7==0 and i%5!=0:\n",
    "        print (i,end =\" \")"
   ]
  },
  {
   "cell_type": "code",
   "execution_count": null,
   "id": "fcc9747e",
   "metadata": {},
   "outputs": [],
   "source": []
  },
  {
   "cell_type": "markdown",
   "id": "501d5628",
   "metadata": {},
   "source": [
    "# Q5\n"
   ]
  },
  {
   "cell_type": "code",
   "execution_count": 14,
   "id": "e48924fd",
   "metadata": {},
   "outputs": [
    {
     "name": "stdout",
     "output_type": "stream",
     "text": [
      "4\n",
      "24\n"
     ]
    }
   ],
   "source": [
    "n=int(input())\n",
    "if n==0 or n==1 :\n",
    "    print (1)\n",
    "else :\n",
    "    f=1\n",
    "    for i in range (1,n+1):\n",
    "        f=f*i\n",
    "    print (f)\n",
    "    "
   ]
  },
  {
   "cell_type": "markdown",
   "id": "24e57407",
   "metadata": {},
   "source": [
    "# Q6\n"
   ]
  },
  {
   "cell_type": "code",
   "execution_count": 23,
   "id": "c124c989",
   "metadata": {},
   "outputs": [
    {
     "name": "stdout",
     "output_type": "stream",
     "text": [
      "entrer une chaine de caracteremouad\n",
      "mud\n"
     ]
    }
   ],
   "source": [
    "ch=input(\"entrer une chaine de caractere\")\n",
    "s=\"\"\n",
    "for i in range(len(ch)):\n",
    "    if i%2==0:\n",
    "        s=s+ch[i]\n",
    "print(s)\n"
   ]
  },
  {
   "cell_type": "markdown",
   "id": "599b4fde",
   "metadata": {},
   "source": [
    "# Q7\n"
   ]
  },
  {
   "cell_type": "code",
   "execution_count": 7,
   "id": "0d2a09c2",
   "metadata": {},
   "outputs": [
    {
     "name": "stdout",
     "output_type": "stream",
     "text": [
      "700\n",
      "350.0\n"
     ]
    }
   ],
   "source": [
    "p=int(input())\n",
    "if p>500:\n",
    "    f=p*(1-0.5)\n",
    "elif p>=200 and p<500:\n",
    "    f=p*(1-0.3)\n",
    "else :\n",
    "    f=p*(1-0.1)\n",
    "print (f)\n"
   ]
  }
 ],
 "metadata": {
  "kernelspec": {
   "display_name": "Python 3 (ipykernel)",
   "language": "python",
   "name": "python3"
  },
  "language_info": {
   "codemirror_mode": {
    "name": "ipython",
    "version": 3
   },
   "file_extension": ".py",
   "mimetype": "text/x-python",
   "name": "python",
   "nbconvert_exporter": "python",
   "pygments_lexer": "ipython3",
   "version": "3.9.12"
  }
 },
 "nbformat": 4,
 "nbformat_minor": 5
}
