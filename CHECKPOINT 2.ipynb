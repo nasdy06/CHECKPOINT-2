{
 "cells": [
  {
   "cell_type": "markdown",
   "id": "1c2a220f",
   "metadata": {},
   "source": [
    "# Q7\n"
   ]
  },
  {
   "cell_type": "code",
   "execution_count": 7,
   "id": "3459912b",
   "metadata": {},
   "outputs": [
    {
     "name": "stdout",
     "output_type": "stream",
     "text": [
      "700\n",
      "350.0\n"
     ]
    }
   ],
   "source": [
    "p=int(input())\n",
    "if p>500:\n",
    "    f=p*(1-0.5)\n",
    "elif p>=200 and p<500:\n",
    "    f=p*(1-0.3)\n",
    "else :\n",
    "    f=p*(1-0.1)\n",
    "print (f)\n"
   ]
  },
  {
   "cell_type": "markdown",
   "id": "6b812342",
   "metadata": {},
   "source": [
    "# Q5\n"
   ]
  },
  {
   "cell_type": "code",
   "execution_count": 14,
   "id": "f8c3eb61",
   "metadata": {},
   "outputs": [
    {
     "name": "stdout",
     "output_type": "stream",
     "text": [
      "4\n",
      "24\n"
     ]
    }
   ],
   "source": [
    "n=int(input())\n",
    "if n==0 or n==1 :\n",
    "    print (1)\n",
    "else :\n",
    "    f=1\n",
    "    for i in range (1,n+1):\n",
    "        f=f*i\n",
    "    print (f)\n",
    "    "
   ]
  }
 ],
 "metadata": {
  "kernelspec": {
   "display_name": "Python 3 (ipykernel)",
   "language": "python",
   "name": "python3"
  },
  "language_info": {
   "codemirror_mode": {
    "name": "ipython",
    "version": 3
   },
   "file_extension": ".py",
   "mimetype": "text/x-python",
   "name": "python",
   "nbconvert_exporter": "python",
   "pygments_lexer": "ipython3",
   "version": "3.9.12"
  }
 },
 "nbformat": 4,
 "nbformat_minor": 5
}
